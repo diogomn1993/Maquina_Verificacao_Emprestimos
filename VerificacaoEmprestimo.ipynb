{
 "cells": [
  {
   "cell_type": "markdown",
   "metadata": {},
   "source": [
    "# Instalação e importação dos pacotes"
   ]
  },
  {
   "cell_type": "code",
   "execution_count": null,
   "metadata": {},
   "outputs": [],
   "source": [
    "#Biblioteca de funções de manipulação de dados\n",
    "\n",
    "%pip install pandas\n",
    "\n",
    "#Biblioteca de funções de visualização de dados \n",
    "\n",
    "%pip install seaborn\n",
    "\n",
    "#Biblioteca para construção de modelos preditivos\n",
    "\n",
    "%pip install sklearn"
   ]
  },
  {
   "cell_type": "code",
   "execution_count": 2,
   "metadata": {},
   "outputs": [],
   "source": [
    "#Importação dos pacotes\n",
    "\n",
    "import pandas as pd\n",
    "import seaborn as sns\n",
    "import warnings\n",
    "warnings.filterwarnings(\"ignore\")"
   ]
  },
  {
   "cell_type": "markdown",
   "metadata": {},
   "source": [
    "# Primeiras Análises"
   ]
  },
  {
   "cell_type": "code",
   "execution_count": 3,
   "metadata": {},
   "outputs": [
    {
     "data": {
      "text/html": [
       "<div>\n",
       "<style scoped>\n",
       "    .dataframe tbody tr th:only-of-type {\n",
       "        vertical-align: middle;\n",
       "    }\n",
       "\n",
       "    .dataframe tbody tr th {\n",
       "        vertical-align: top;\n",
       "    }\n",
       "\n",
       "    .dataframe thead th {\n",
       "        text-align: right;\n",
       "    }\n",
       "</style>\n",
       "<table border=\"1\" class=\"dataframe\">\n",
       "  <thead>\n",
       "    <tr style=\"text-align: right;\">\n",
       "      <th></th>\n",
       "      <th>cod_cliente</th>\n",
       "      <th>sexo</th>\n",
       "      <th>estado_civil</th>\n",
       "      <th>dependentes</th>\n",
       "      <th>educacao</th>\n",
       "      <th>empregado</th>\n",
       "      <th>renda</th>\n",
       "      <th>renda_conjuge</th>\n",
       "      <th>emprestimo</th>\n",
       "      <th>prestacao_mensal</th>\n",
       "      <th>historico_credito</th>\n",
       "      <th>imovel</th>\n",
       "      <th>aprovacao_emprestimo</th>\n",
       "    </tr>\n",
       "  </thead>\n",
       "  <tbody>\n",
       "    <tr>\n",
       "      <th>0</th>\n",
       "      <td>LP001002</td>\n",
       "      <td>Male</td>\n",
       "      <td>No</td>\n",
       "      <td>0</td>\n",
       "      <td>Graduate</td>\n",
       "      <td>No</td>\n",
       "      <td>5849</td>\n",
       "      <td>0</td>\n",
       "      <td>NaN</td>\n",
       "      <td>360.0</td>\n",
       "      <td>1.0</td>\n",
       "      <td>Urban</td>\n",
       "      <td>Y</td>\n",
       "    </tr>\n",
       "    <tr>\n",
       "      <th>1</th>\n",
       "      <td>LP001003</td>\n",
       "      <td>Male</td>\n",
       "      <td>Yes</td>\n",
       "      <td>1</td>\n",
       "      <td>Graduate</td>\n",
       "      <td>No</td>\n",
       "      <td>4583</td>\n",
       "      <td>1508</td>\n",
       "      <td>128.0</td>\n",
       "      <td>360.0</td>\n",
       "      <td>1.0</td>\n",
       "      <td>Rural</td>\n",
       "      <td>N</td>\n",
       "    </tr>\n",
       "    <tr>\n",
       "      <th>2</th>\n",
       "      <td>LP001005</td>\n",
       "      <td>Male</td>\n",
       "      <td>Yes</td>\n",
       "      <td>0</td>\n",
       "      <td>Graduate</td>\n",
       "      <td>Yes</td>\n",
       "      <td>3000</td>\n",
       "      <td>0</td>\n",
       "      <td>66.0</td>\n",
       "      <td>360.0</td>\n",
       "      <td>1.0</td>\n",
       "      <td>Urban</td>\n",
       "      <td>Y</td>\n",
       "    </tr>\n",
       "    <tr>\n",
       "      <th>3</th>\n",
       "      <td>LP001006</td>\n",
       "      <td>Male</td>\n",
       "      <td>Yes</td>\n",
       "      <td>0</td>\n",
       "      <td>Not Graduate</td>\n",
       "      <td>No</td>\n",
       "      <td>2583</td>\n",
       "      <td>2358</td>\n",
       "      <td>120.0</td>\n",
       "      <td>360.0</td>\n",
       "      <td>1.0</td>\n",
       "      <td>Urban</td>\n",
       "      <td>Y</td>\n",
       "    </tr>\n",
       "    <tr>\n",
       "      <th>4</th>\n",
       "      <td>LP001008</td>\n",
       "      <td>Male</td>\n",
       "      <td>No</td>\n",
       "      <td>0</td>\n",
       "      <td>Graduate</td>\n",
       "      <td>No</td>\n",
       "      <td>6000</td>\n",
       "      <td>0</td>\n",
       "      <td>141.0</td>\n",
       "      <td>360.0</td>\n",
       "      <td>1.0</td>\n",
       "      <td>Urban</td>\n",
       "      <td>Y</td>\n",
       "    </tr>\n",
       "  </tbody>\n",
       "</table>\n",
       "</div>"
      ],
      "text/plain": [
       "  cod_cliente  sexo estado_civil dependentes      educacao empregado  renda  \\\n",
       "0    LP001002  Male           No           0      Graduate        No   5849   \n",
       "1    LP001003  Male          Yes           1      Graduate        No   4583   \n",
       "2    LP001005  Male          Yes           0      Graduate       Yes   3000   \n",
       "3    LP001006  Male          Yes           0  Not Graduate        No   2583   \n",
       "4    LP001008  Male           No           0      Graduate        No   6000   \n",
       "\n",
       "  renda_conjuge  emprestimo  prestacao_mensal  historico_credito imovel  \\\n",
       "0             0         NaN             360.0                1.0  Urban   \n",
       "1          1508       128.0             360.0                1.0  Rural   \n",
       "2             0        66.0             360.0                1.0  Urban   \n",
       "3          2358       120.0             360.0                1.0  Urban   \n",
       "4             0       141.0             360.0                1.0  Urban   \n",
       "\n",
       "  aprovacao_emprestimo  \n",
       "0                    Y  \n",
       "1                    N  \n",
       "2                    Y  \n",
       "3                    Y  \n",
       "4                    Y  "
      ]
     },
     "execution_count": 3,
     "metadata": {},
     "output_type": "execute_result"
    }
   ],
   "source": [
    "#Importação dos dados\n",
    "\n",
    "clientes = pd.read_csv(\"D:\\\\Machine Learning\\\\Validação de Empréstimos\\\\clientes.csv\")\n",
    "clientes.head()"
   ]
  },
  {
   "cell_type": "markdown",
   "metadata": {},
   "source": [
    "A função head() traz as primeiras linhas de um Data Frame. Por default ele traz as 5 primeiras linhas, mas é possível mostrar a quantidade que você quiser, basta inserir a quantidade de linhas desejadas entre os parenteses."
   ]
  },
  {
   "cell_type": "markdown",
   "metadata": {},
   "source": [
    "Esses dados são referentes ao cadastro de clientes de um banco. Onde: a coluna cod_cliente traz o código de cada cliente; a coluna sexo o gênero de cada cliente; estado_civil se é casodo (Yes) ou não é casado (No); dependentes é a quantidade de dependentes que cada cliente tem; educacao é o nível de escolaridade; renda é renda mensal; renda_conjuge é a renda do conjuge do cliente; emprestimo diz se o cliente tem algum emprestimo já em seu nome e o montante, caso não tenha nenhum empréstimo não terá informação; prestacao_mensal são debitos mensais que o cliente tem; historico_credito traz informações se o cliente já fez alguma operação de crédito (1) e se não fez nenhuma operação (0); imovel é o tipo de imovel que esse cliente tem urbano, rural ou semiurbano; aprovacao_emprestimo traz a informação se o emprestimo para essa pessoa foi aprovado(Y) ou não(N)"
   ]
  },
  {
   "cell_type": "code",
   "execution_count": 4,
   "metadata": {},
   "outputs": [
    {
     "data": {
      "text/plain": [
       "(614, 13)"
      ]
     },
     "execution_count": 4,
     "metadata": {},
     "output_type": "execute_result"
    }
   ],
   "source": [
    "# Verificação da dimensão do Data Frame\n",
    "\n",
    "clientes.shape"
   ]
  },
  {
   "cell_type": "markdown",
   "metadata": {},
   "source": [
    "Nesse caso é montada um tupla com a quantidade de linhas, 614, e colunas, 13."
   ]
  },
  {
   "cell_type": "code",
   "execution_count": 5,
   "metadata": {},
   "outputs": [
    {
     "name": "stdout",
     "output_type": "stream",
     "text": [
      "<class 'pandas.core.frame.DataFrame'>\n",
      "RangeIndex: 614 entries, 0 to 613\n",
      "Data columns (total 13 columns):\n",
      " #   Column                Non-Null Count  Dtype  \n",
      "---  ------                --------------  -----  \n",
      " 0   cod_cliente           614 non-null    object \n",
      " 1   sexo                  601 non-null    object \n",
      " 2   estado_civil          611 non-null    object \n",
      " 3   dependentes           599 non-null    object \n",
      " 4   educacao              614 non-null    object \n",
      " 5   empregado             582 non-null    object \n",
      " 6   renda                 614 non-null    int64  \n",
      " 7   renda_conjuge         614 non-null    object \n",
      " 8   emprestimo            592 non-null    float64\n",
      " 9   prestacao_mensal      600 non-null    float64\n",
      " 10  historico_credito     564 non-null    float64\n",
      " 11  imovel                614 non-null    object \n",
      " 12  aprovacao_emprestimo  614 non-null    object \n",
      "dtypes: float64(3), int64(1), object(9)\n",
      "memory usage: 62.5+ KB\n"
     ]
    }
   ],
   "source": [
    "# Verificando as informações dos campos do dataset clientes\n",
    "\n",
    "clientes.info()"
   ]
  },
  {
   "cell_type": "markdown",
   "metadata": {},
   "source": [
    "É possível observar que existem colunas que tem dados nulos. Pois temos um total de 614 dados em cada coluna e tem colunas que tem menos dados registrados como não nulos. Por exemplo, a coluna sexo tem registrados 601 dados não nulos, logo nessa coluna temos 13 dados nulos. Mais a frente esses dados serão devidamente tratados."
   ]
  },
  {
   "cell_type": "code",
   "execution_count": 6,
   "metadata": {},
   "outputs": [
    {
     "data": {
      "text/plain": [
       "cod_cliente              0\n",
       "sexo                    13\n",
       "estado_civil             3\n",
       "dependentes             15\n",
       "educacao                 0\n",
       "empregado               32\n",
       "renda                    0\n",
       "renda_conjuge            0\n",
       "emprestimo              22\n",
       "prestacao_mensal        14\n",
       "historico_credito       50\n",
       "imovel                   0\n",
       "aprovacao_emprestimo     0\n",
       "dtype: int64"
      ]
     },
     "execution_count": 6,
     "metadata": {},
     "output_type": "execute_result"
    }
   ],
   "source": [
    "#Vrificando a quantidade de valores nulos/ausentes\n",
    "\n",
    "clientes.isnull().sum()"
   ]
  },
  {
   "cell_type": "markdown",
   "metadata": {},
   "source": [
    "Os resultados acima mostram a quantidade de valores nulos/ausentes em cada caoluna do nosso Data Frame."
   ]
  },
  {
   "cell_type": "code",
   "execution_count": 7,
   "metadata": {},
   "outputs": [
    {
     "data": {
      "text/plain": [
       "0"
      ]
     },
     "execution_count": 7,
     "metadata": {},
     "output_type": "execute_result"
    }
   ],
   "source": [
    "#Verificando a quantidade de valores duplicados\n",
    "\n",
    "clientes.duplicated().sum()"
   ]
  },
  {
   "cell_type": "markdown",
   "metadata": {},
   "source": [
    "Logo, não há valores duplicados em nossos dados."
   ]
  },
  {
   "cell_type": "markdown",
   "metadata": {},
   "source": [
    "# Conhecendo Dados Estatísticos das Variáveis"
   ]
  },
  {
   "cell_type": "code",
   "execution_count": 8,
   "metadata": {},
   "outputs": [
    {
     "data": {
      "text/html": [
       "<div>\n",
       "<style scoped>\n",
       "    .dataframe tbody tr th:only-of-type {\n",
       "        vertical-align: middle;\n",
       "    }\n",
       "\n",
       "    .dataframe tbody tr th {\n",
       "        vertical-align: top;\n",
       "    }\n",
       "\n",
       "    .dataframe thead th {\n",
       "        text-align: right;\n",
       "    }\n",
       "</style>\n",
       "<table border=\"1\" class=\"dataframe\">\n",
       "  <thead>\n",
       "    <tr style=\"text-align: right;\">\n",
       "      <th></th>\n",
       "      <th>renda</th>\n",
       "      <th>emprestimo</th>\n",
       "      <th>prestacao_mensal</th>\n",
       "      <th>historico_credito</th>\n",
       "    </tr>\n",
       "  </thead>\n",
       "  <tbody>\n",
       "    <tr>\n",
       "      <th>count</th>\n",
       "      <td>614.000000</td>\n",
       "      <td>592.000000</td>\n",
       "      <td>600.00000</td>\n",
       "      <td>564.000000</td>\n",
       "    </tr>\n",
       "    <tr>\n",
       "      <th>mean</th>\n",
       "      <td>5403.459283</td>\n",
       "      <td>146.412162</td>\n",
       "      <td>342.00000</td>\n",
       "      <td>0.842199</td>\n",
       "    </tr>\n",
       "    <tr>\n",
       "      <th>std</th>\n",
       "      <td>6109.041673</td>\n",
       "      <td>85.587325</td>\n",
       "      <td>65.12041</td>\n",
       "      <td>0.364878</td>\n",
       "    </tr>\n",
       "    <tr>\n",
       "      <th>min</th>\n",
       "      <td>150.000000</td>\n",
       "      <td>9.000000</td>\n",
       "      <td>12.00000</td>\n",
       "      <td>0.000000</td>\n",
       "    </tr>\n",
       "    <tr>\n",
       "      <th>25%</th>\n",
       "      <td>2877.500000</td>\n",
       "      <td>100.000000</td>\n",
       "      <td>360.00000</td>\n",
       "      <td>1.000000</td>\n",
       "    </tr>\n",
       "    <tr>\n",
       "      <th>50%</th>\n",
       "      <td>3812.500000</td>\n",
       "      <td>128.000000</td>\n",
       "      <td>360.00000</td>\n",
       "      <td>1.000000</td>\n",
       "    </tr>\n",
       "    <tr>\n",
       "      <th>75%</th>\n",
       "      <td>5795.000000</td>\n",
       "      <td>168.000000</td>\n",
       "      <td>360.00000</td>\n",
       "      <td>1.000000</td>\n",
       "    </tr>\n",
       "    <tr>\n",
       "      <th>max</th>\n",
       "      <td>81000.000000</td>\n",
       "      <td>700.000000</td>\n",
       "      <td>480.00000</td>\n",
       "      <td>1.000000</td>\n",
       "    </tr>\n",
       "  </tbody>\n",
       "</table>\n",
       "</div>"
      ],
      "text/plain": [
       "              renda  emprestimo  prestacao_mensal  historico_credito\n",
       "count    614.000000  592.000000         600.00000         564.000000\n",
       "mean    5403.459283  146.412162         342.00000           0.842199\n",
       "std     6109.041673   85.587325          65.12041           0.364878\n",
       "min      150.000000    9.000000          12.00000           0.000000\n",
       "25%     2877.500000  100.000000         360.00000           1.000000\n",
       "50%     3812.500000  128.000000         360.00000           1.000000\n",
       "75%     5795.000000  168.000000         360.00000           1.000000\n",
       "max    81000.000000  700.000000         480.00000           1.000000"
      ]
     },
     "execution_count": 8,
     "metadata": {},
     "output_type": "execute_result"
    }
   ],
   "source": [
    "#Estatística Descritiva das Variáveis\n",
    "\n",
    "clientes.describe()"
   ]
  },
  {
   "cell_type": "markdown",
   "metadata": {},
   "source": [
    "Pelos dados mostrados acima é possível ver que nossa base de dados tem informações sobre clientes em situação financeira bem variadas. Por exemplo, em nossa instituição financeira temos clientes com renda de R$ 150,00 e clientes com renda de R$ 81000,00. Então estamos com uma base de dados bem diversificada, como o objetivo é criar um sistema de previsão de aprovação de empréstimos essa base de dados nos fornece situações bem diversificadas, ou seja, é uma boa base dados.\n",
    "\n",
    "Em relação aos quartis, podemos ver que 25% dos clientes tem renda inferior a R$ 2877,50, 50% tem renda inferior a R$ 3812,00 e 75% tem renda inferior a R$ 5795,00. Esses dados mostram que a maioria dos nossos clientes tem renda de 5 - 6 salários mínimos. Ou seja, embora existam clientes que tenham rendas bem elevadas, eles são pontos fora da realidade da maioria. Um fato esperado, pois uma renda de R$ 81000,00 não é algo comum de se ter."
   ]
  },
  {
   "cell_type": "code",
   "execution_count": 9,
   "metadata": {},
   "outputs": [
    {
     "data": {
      "text/plain": [
       "Y    422\n",
       "N    192\n",
       "Name: aprovacao_emprestimo, dtype: int64"
      ]
     },
     "execution_count": 9,
     "metadata": {},
     "output_type": "execute_result"
    }
   ],
   "source": [
    "#Tabela de Frequência da Variável \"aprovação_emprestimos\" - Nossa Classe a ser Predita\n",
    "\n",
    "clientes['aprovacao_emprestimo'].value_counts()"
   ]
  },
  {
   "cell_type": "markdown",
   "metadata": {},
   "source": [
    "Podemos ver que dentre nossos clientes, 422 tiveram seus pedidos de emprétimo aceitos e 192 tiveram seus pedidos rejeitados."
   ]
  },
  {
   "cell_type": "code",
   "execution_count": 10,
   "metadata": {},
   "outputs": [
    {
     "data": {
      "text/plain": [
       "1.0    475\n",
       "0.0     89\n",
       "Name: historico_credito, dtype: int64"
      ]
     },
     "execution_count": 10,
     "metadata": {},
     "output_type": "execute_result"
    }
   ],
   "source": [
    "#Tabela de Frequência da Variável \"historico_credito\"\n",
    "\n",
    "clientes['historico_credito'].value_counts()"
   ]
  },
  {
   "cell_type": "markdown",
   "metadata": {},
   "source": [
    "Ou seja, 475 dos clientes já acionaram alguma operação de crédito e 89 nunca o fizeram."
   ]
  },
  {
   "cell_type": "markdown",
   "metadata": {},
   "source": [
    "## Criando Gráficos"
   ]
  },
  {
   "cell_type": "code",
   "execution_count": 11,
   "metadata": {},
   "outputs": [
    {
     "data": {
      "text/plain": [
       "[Text(0.5, 0, 'Aprovação Empréstimo'),\n",
       " Text(0, 0.5, 'Quantidade'),\n",
       " Text(0.5, 1.0, 'Situação dos Pedidos de Empréstimos')]"
      ]
     },
     "execution_count": 11,
     "metadata": {},
     "output_type": "execute_result"
    },
    {
     "data": {
      "image/png": "[encoded data removed]",
      "text/plain": [
       "<Figure size 432x288 with 1 Axes>"
      ]
     },
     "metadata": {
      "needs_background": "light"
     },
     "output_type": "display_data"
    }
   ],
   "source": [
    "#Gráfico de barras para a variável aprovacao_emprestimos\n",
    "\n",
    "g1 = sns.countplot(clientes['aprovacao_emprestimo'])\n",
    "g1.set(xlabel=\"Aprovação Empréstimo\",ylabel=\"Quantidade\",title=\"Situação dos Pedidos de Empréstimos\")"
   ]
  },
  {
   "cell_type": "code",
   "execution_count": 12,
   "metadata": {},
   "outputs": [
    {
     "data": {
      "text/plain": [
       "[Text(0.5, 0, 'Histórico Crédito'),\n",
       " Text(0, 0.5, 'Quantidade'),\n",
       " Text(0.5, 1.0, 'Histórico de Crédito dos Clientes')]"
      ]
     },
     "execution_count": 12,
     "metadata": {},
     "output_type": "execute_result"
    },
    {
     "data": {
      "image/png": "[encoded data removed]",
      "text/plain": [
       "<Figure size 432x288 with 1 Axes>"
      ]
     },
     "metadata": {
      "needs_background": "light"
     },
     "output_type": "display_data"
    }
   ],
   "source": [
    "#Gráfico de barras para a variável historico_credito\n",
    "\n",
    "g1 = sns.countplot(clientes['historico_credito'])\n",
    "g1.set(xlabel=\"Histórico Crédito\",ylabel=\"Quantidade\",title=\"Histórico de Crédito dos Clientes\")"
   ]
  },
  {
   "cell_type": "code",
   "execution_count": 13,
   "metadata": {},
   "outputs": [
    {
     "data": {
      "text/plain": [
       "[Text(0.5, 0, 'Nível de Escolaridade'),\n",
       " Text(0, 0.5, 'Quantidade'),\n",
       " Text(0.5, 1.0, 'Nível de Escolaridade dos Clientes')]"
      ]
     },
     "execution_count": 13,
     "metadata": {},
     "output_type": "execute_result"
    },
    {
     "data": {
      "image/png": "[encoded data removed]",
      "text/plain": [
       "<Figure size 432x288 with 1 Axes>"
      ]
     },
     "metadata": {
      "needs_background": "light"
     },
     "output_type": "display_data"
    }
   ],
   "source": [
    "#Gráfico de barras para a variável educacao\n",
    "\n",
    "g1 = sns.countplot(clientes['educacao'])\n",
    "g1.set(xlabel=\"Nível de Escolaridade\",ylabel=\"Quantidade\",title=\"Nível de Escolaridade dos Clientes\")"
   ]
  },
  {
   "cell_type": "code",
   "execution_count": 14,
   "metadata": {},
   "outputs": [
    {
     "data": {
      "text/plain": [
       "[Text(0.5, 0, 'Gênero'),\n",
       " Text(0, 0.5, 'Quantidade'),\n",
       " Text(0.5, 1.0, 'Quantidade de Homens e Mulheres')]"
      ]
     },
     "execution_count": 14,
     "metadata": {},
     "output_type": "execute_result"
    },
    {
     "data": {
      "image/png": "[encoded data removed]",
      "text/plain": [
       "<Figure size 432x288 with 1 Axes>"
      ]
     },
     "metadata": {
      "needs_background": "light"
     },
     "output_type": "display_data"
    }
   ],
   "source": [
    "#Gráfico de barras para a variável sexo\n",
    "\n",
    "g1 = sns.countplot(clientes['sexo'])\n",
    "g1.set(xlabel=\"Gênero\",ylabel=\"Quantidade\",title=\"Quantidade de Homens e Mulheres\")"
   ]
  },
  {
   "cell_type": "code",
   "execution_count": 15,
   "metadata": {},
   "outputs": [
    {
     "data": {
      "text/plain": [
       "[Text(0.5, 0, 'Tipos de Imóvel'),\n",
       " Text(0, 0.5, 'Quantidade'),\n",
       " Text(0.5, 1.0, 'Quantidade/Tipo de Imóvel')]"
      ]
     },
     "execution_count": 15,
     "metadata": {},
     "output_type": "execute_result"
    },
    {
     "data": {
      "image/png": "[encoded data removed]",
      "text/plain": [
       "<Figure size 432x288 with 1 Axes>"
      ]
     },
     "metadata": {
      "needs_background": "light"
     },
     "output_type": "display_data"
    }
   ],
   "source": [
    "#Gráfico de barras para a variável imovel\n",
    "\n",
    "g1 = sns.countplot(clientes['imovel'])\n",
    "g1.set(xlabel=\"Tipos de Imóvel\",ylabel=\"Quantidade\",title=\"Quantidade/Tipo de Imóvel\")"
   ]
  },
  {
   "cell_type": "code",
   "execution_count": 16,
   "metadata": {},
   "outputs": [
    {
     "data": {
      "text/plain": [
       "[Text(0.5, 0, 'Quantidade de Dependentes'),\n",
       " Text(0, 0.5, 'Quantidade de Clientes'),\n",
       " Text(0.5, 1.0, 'Quantidade de Clientes/Quantidade de Dependentes')]"
      ]
     },
     "execution_count": 16,
     "metadata": {},
     "output_type": "execute_result"
    },
    {
     "data": {
      "image/png": "[encoded data removed]",
      "text/plain": [
       "<Figure size 432x288 with 1 Axes>"
      ]
     },
     "metadata": {
      "needs_background": "light"
     },
     "output_type": "display_data"
    }
   ],
   "source": [
    "#Gráfico de barras para a variável dependentes\n",
    "\n",
    "g1 = sns.countplot(clientes['dependentes'])\n",
    "g1.set(xlabel=\"Quantidade de Dependentes\",ylabel=\"Quantidade de Clientes\",title=\"Quantidade de Clientes/Quantidade de Dependentes\")"
   ]
  },
  {
   "cell_type": "code",
   "execution_count": 17,
   "metadata": {},
   "outputs": [
    {
     "data": {
      "text/plain": [
       "[Text(0.5, 0, 'Situação Pessoal'),\n",
       " Text(0, 0.5, 'Quantidade de Clientes'),\n",
       " Text(0.5, 1.0, 'Quantidade de Clientes/Situação Pessoal')]"
      ]
     },
     "execution_count": 17,
     "metadata": {},
     "output_type": "execute_result"
    },
    {
     "data": {
      "image/png": "[encoded data removed]",
      "text/plain": [
       "<Figure size 432x288 with 1 Axes>"
      ]
     },
     "metadata": {
      "needs_background": "light"
     },
     "output_type": "display_data"
    }
   ],
   "source": [
    "#Gráfico de barras para a variável estado_civil\n",
    "\n",
    "g1 = sns.countplot(clientes['estado_civil'])\n",
    "g1.set(xlabel=\"Situação Pessoal\",ylabel=\"Quantidade de Clientes\",title=\"Quantidade de Clientes/Situação Pessoal\")"
   ]
  },
  {
   "cell_type": "code",
   "execution_count": 18,
   "metadata": {},
   "outputs": [
    {
     "data": {
      "text/plain": [
       "[Text(0.5, 0, 'Situação Profissional'),\n",
       " Text(0, 0.5, 'Quantidade de Clientes'),\n",
       " Text(0.5, 1.0, 'Quantidade de Clientes/Situação Profissional')]"
      ]
     },
     "execution_count": 18,
     "metadata": {},
     "output_type": "execute_result"
    },
    {
     "data": {
      "image/png": "[encoded data removed]",
      "text/plain": [
       "<Figure size 432x288 with 1 Axes>"
      ]
     },
     "metadata": {
      "needs_background": "light"
     },
     "output_type": "display_data"
    }
   ],
   "source": [
    "#Gráfico de barras para a variável empregado\n",
    "\n",
    "g1 = sns.countplot(clientes['empregado'])\n",
    "g1.set(xlabel=\"Situação Profissional\",ylabel=\"Quantidade de Clientes\",title=\"Quantidade de Clientes/Situação Profissional\")"
   ]
  },
  {
   "cell_type": "markdown",
   "metadata": {},
   "source": [
    "Os gráficos de barra tem por essencia mostrar o quantitativo de dados que temos por cada categpria, sendo assim é até possível fazer um pararlelo entre o gráfico de barra e a função value_counts(). O gráfico de barras é uma demonstração gráfica (visual) da função value_counts()."
   ]
  },
  {
   "cell_type": "markdown",
   "metadata": {},
   "source": [
    "Dentre nosso resultados, é possível observar que a maioria dos pedidos de empréstimo foram aceitos. Um fato interessante se compararmos com a situação profissional dos clientes, onde mostra que a maioria não está empregada. Contudo, podemos inferir que não estar empregado não quer dizer não ter renda, pois vimos que 50% dos clientes tem renda superior a R$3812,50, logo podemos estar tratando de empregados informais sem carteira assinada.\n",
    "\n",
    "Outro fato interessante é que a maioria dos clientes é casado, porém a maioria dos clientes não tem dependentes. Mostrando uma tendência dos casais mais jovens, onde a quantidade de filhos é pequena ou até mesmo optam por não ter filhos. Ainda podemos inferir que por se tratarem de casais mais jovens ou recém formados, possam estar buscando empréstimos para construir/reformar sua casa ou adquirir móveis/eletrodomésticos.\n",
    "\n",
    "Ainda vemos que a maioria dos clientes tem curso superior finalizado e que, em relação a moradia, existe um nivelamento quanto onde esses clientes vivem. Contudo ainda se destacam propriedades semiurbanas, então podemos ver uma tendência das pessoas estrem morando mais em cidades vizinhas as capitais/centros urbanos, este fato pode ser visto como uma saturação dos centros urbanos, mas também pode ser a busca por locais mais tranquilos e até baratos de se habitar."
   ]
  },
  {
   "cell_type": "code",
   "execution_count": 19,
   "metadata": {},
   "outputs": [
    {
     "data": {
      "text/plain": [
       "[Text(0.5, 0, 'Renda'),\n",
       " Text(0, 0.5, 'Quantidade de Clientes'),\n",
       " Text(0.5, 1.0, 'Histograma da Distribuição de Renda')]"
      ]
     },
     "execution_count": 19,
     "metadata": {},
     "output_type": "execute_result"
    },
    {
     "data": {
      "image/png": "[encoded data removed]",
      "text/plain": [
       "<Figure size 432x288 with 1 Axes>"
      ]
     },
     "metadata": {
      "needs_background": "light"
     },
     "output_type": "display_data"
    }
   ],
   "source": [
    "#Gráfico histograma para variável renda\n",
    "\n",
    "g2 = sns.histplot(clientes['renda'],bins=50,kde=True)\n",
    "g2.set(xlabel=\"Renda\",ylabel=\"Quantidade de Clientes\",title=\"Histograma da Distribuição de Renda\")"
   ]
  },
  {
   "cell_type": "code",
   "execution_count": 20,
   "metadata": {},
   "outputs": [
    {
     "data": {
      "text/plain": [
       "[Text(0.5, 1.0, 'Boxplot da Distribuição de Renda')]"
      ]
     },
     "execution_count": 20,
     "metadata": {},
     "output_type": "execute_result"
    },
    {
     "data": {
      "image/png": "[encoded data removed]",
      "text/plain": [
       "<Figure size 432x288 with 1 Axes>"
      ]
     },
     "metadata": {
      "needs_background": "light"
     },
     "output_type": "display_data"
    }
   ],
   "source": [
    "#Gráfico de distribuição dos dados da variável renda\n",
    "g3 = clientes.boxplot(column='renda',vert=False)\n",
    "g3.set(title=\"Boxplot da Distribuição de Renda\")"
   ]
  },
  {
   "cell_type": "markdown",
   "metadata": {},
   "source": [
    "O histograma e o boxplot servem para avaliar a distribuição dos nossos dados.\n",
    "\n",
    "No histograma vemos a distribuição dos dados referente a quantidade e o valor que tem maior quantidades de dados. Como podemos ver, esse gráfico é dividido em intervalos, então cada barra representa um intervalo de valores. As barras maiores representam o intervalo de valores que tem maior quantidades de dados que o representa. Sendo assim, é possível observar que a maioria dos clientes tem renda concentrada entorno de R$ 5000,00, como vimos anteriormente.\n",
    "\n",
    "O boxplot serve para observar a distribuição de acordo com os quartis. Cada linha da caixa representa um quartil (25%, 50% e 75%). Um dos pontos fortes desse gráfico é a possibilidade de observar os outlier, que são os valores que ficam muito acima ou muito abaixo da distribuição normal. Os outliers são representados pelos círculos. Ou seja, embora tenhamos visto que a maioria dos clientes tenha renda em aproximadamente R$ 5000,00, existem aqueles clientes que tem bem superior a esse valor, chagndo até superar R$ 80000,00. Em alguns casos esses valores de outliers são tratados e até elimindados da análise, pois são \"pontos fora da curva\". Mas isso é papel do analista determinar a relevância ou não desses dados."
   ]
  },
  {
   "cell_type": "code",
   "execution_count": 21,
   "metadata": {},
   "outputs": [
    {
     "data": {
      "text/plain": [
       "[Text(0.5, 0, 'Empréstimo'),\n",
       " Text(0, 0.5, 'Quantidade de Clientes'),\n",
       " Text(0.5, 1.0, 'Histograma da Distribuição do Montante do Empréstimo Pedido')]"
      ]
     },
     "execution_count": 21,
     "metadata": {},
     "output_type": "execute_result"
    },
    {
     "data": {
      "image/png": "[encoded data removed]",
      "text/plain": [
       "<Figure size 432x288 with 1 Axes>"
      ]
     },
     "metadata": {
      "needs_background": "light"
     },
     "output_type": "display_data"
    }
   ],
   "source": [
    "#Gráfico histograma para variável emprestimo\n",
    "\n",
    "g2 = sns.histplot(clientes['emprestimo'],bins=50,kde=True)\n",
    "g2.set(xlabel=\"Empréstimo\",ylabel=\"Quantidade de Clientes\",title=\"Histograma da Distribuição do Montante do Empréstimo Pedido\")"
   ]
  },
  {
   "cell_type": "code",
   "execution_count": 22,
   "metadata": {},
   "outputs": [
    {
     "data": {
      "text/plain": [
       "[Text(0.5, 1.0, 'Boxplot da Distribuição do Montante do Empréstimo Pedido')]"
      ]
     },
     "execution_count": 22,
     "metadata": {},
     "output_type": "execute_result"
    },
    {
     "data": {
      "image/png": "[encoded data removed]",
      "text/plain": [
       "<Figure size 432x288 with 1 Axes>"
      ]
     },
     "metadata": {
      "needs_background": "light"
     },
     "output_type": "display_data"
    }
   ],
   "source": [
    "#Gráfico de distribuição dos dados da variável emprestimo\n",
    "g3 = clientes.boxplot(column='emprestimo',vert=False)\n",
    "g3.set(title=\"Boxplot da Distribuição do Montante do Empréstimo Pedido\")"
   ]
  },
  {
   "cell_type": "code",
   "execution_count": 23,
   "metadata": {},
   "outputs": [
    {
     "data": {
      "text/plain": [
       "[Text(0.5, 0, 'Empréstimo'),\n",
       " Text(0, 0.5, 'Renda'),\n",
       " Text(0.5, 1.0, 'Correlação Empréstimo x Renda')]"
      ]
     },
     "execution_count": 23,
     "metadata": {},
     "output_type": "execute_result"
    },
    {
     "data": {
      "image/png": "[encoded data removed]",
      "text/plain": [
       "<Figure size 432x288 with 1 Axes>"
      ]
     },
     "metadata": {
      "needs_background": "light"
     },
     "output_type": "display_data"
    }
   ],
   "source": [
    "#Correlação entre as variáveis emprestimo x renda - Gráfico de dispersão\n",
    "\n",
    "g4 = sns.scatterplot(data=clientes,x='emprestimo',y='renda',hue='aprovacao_emprestimo')\n",
    "g4.set(xlabel=\"Empréstimo\",ylabel=\"Renda\",title=\"Correlação Empréstimo x Renda\")"
   ]
  },
  {
   "cell_type": "markdown",
   "metadata": {},
   "source": [
    "O gráfico de dispersão é muito útil para fazer estudos de correlação entre variáveis e avaliar o resultado que a combinação delas gera.\n",
    "\n",
    "Em nosso exemplo, fizemos o estudo da correlação entre montante do empréstimo e renda. A primeira observação podemos ver que para valores de empréstimo mais baixos a renda não influencia muito, tendo situações de aprovação e reprovação. É verdade que vemos uma maior quantidade de situações de aprovação, mas esse fato já foi evidenciado na contagem dos casos onde tivemos uma amior frquência de aceitação.\n",
    "\n",
    "O fato interessante ocorre quando o valor do empréstimo cresce. Quando isso ocorre temos uma maior interferência da renda do cliente, ou seja, para maiores montantes de empréstimos, a operação terá uma tendência de ser aceita se o cliente tiver uma renda mais elevada.\n",
    "\n",
    "Contudo este fato nem sempre é verdade, pois temos situações onde o cliente tem uma renda elevada, mas ainda tem seu pedido de empréstimo negado. Este fato é devido a combinação das outras variáveis (a influência das demais variáveis será avaliado mais a frente). Por exemplo, o cliente de maior renda teve sua operação recusada mesmo sendo seu empréstimo de valor mediano.\n",
    "\n",
    "Ou seja, existe a tendência dos clientes com maior renda terem uma maior facilidade em terem sua operação aprovada, contudo esse fato nem sempre é verdade, uma vez que existem outros fatores que afetam o resultado da avaliação da operação de crédito."
   ]
  },
  {
   "cell_type": "code",
   "execution_count": 24,
   "metadata": {},
   "outputs": [
    {
     "data": {
      "text/plain": [
       "<seaborn.axisgrid.PairGrid at 0x23cff1e8e20>"
      ]
     },
     "execution_count": 24,
     "metadata": {},
     "output_type": "execute_result"
    },
    {
     "data": {
      "image/png": "[encoded data removed]",
      "text/plain": [
       "<Figure size 844.5x720 with 20 Axes>"
      ]
     },
     "metadata": {
      "needs_background": "light"
     },
     "output_type": "display_data"
    }
   ],
   "source": [
    "#Criação do gráfico de dispersão do tipo pairplot\n",
    "\n",
    "sns.pairplot(clientes,hue='aprovacao_emprestimo',kind='reg')"
   ]
  },
  {
   "cell_type": "markdown",
   "metadata": {},
   "source": [
    "O gráfico pairplot serve para se ter uma ideia geral da correlação entre todas as variáveis e ainda é possível observar o comportamento da reta de regressão.\n",
    "Reta de regressão é a reta que mostra a tendência que uma variável tem em relação a outra. Por exemplo, existe uma tendência do valor pedido nos empréstimos aumentar com o aumento da renda e também existe a tendência do empréstimo ser aprovado com o aumento da renda do cliente."
   ]
  },
  {
   "cell_type": "markdown",
   "metadata": {},
   "source": [
    "# Pré processamento dos Dados\n",
    "\n",
    "Vimos que nossos dados tem várias informações e algumas delas precisam ser tratadas antes de serem utilizadas num modelo de previsão"
   ]
  },
  {
   "cell_type": "code",
   "execution_count": 25,
   "metadata": {},
   "outputs": [
    {
     "data": {
      "text/html": [
       "<div>\n",
       "<style scoped>\n",
       "    .dataframe tbody tr th:only-of-type {\n",
       "        vertical-align: middle;\n",
       "    }\n",
       "\n",
       "    .dataframe tbody tr th {\n",
       "        vertical-align: top;\n",
       "    }\n",
       "\n",
       "    .dataframe thead th {\n",
       "        text-align: right;\n",
       "    }\n",
       "</style>\n",
       "<table border=\"1\" class=\"dataframe\">\n",
       "  <thead>\n",
       "    <tr style=\"text-align: right;\">\n",
       "      <th></th>\n",
       "      <th>cod_cliente</th>\n",
       "      <th>sexo</th>\n",
       "      <th>estado_civil</th>\n",
       "      <th>dependentes</th>\n",
       "      <th>educacao</th>\n",
       "      <th>empregado</th>\n",
       "      <th>renda</th>\n",
       "      <th>renda_conjuge</th>\n",
       "      <th>emprestimo</th>\n",
       "      <th>prestacao_mensal</th>\n",
       "      <th>historico_credito</th>\n",
       "      <th>imovel</th>\n",
       "      <th>aprovacao_emprestimo</th>\n",
       "    </tr>\n",
       "  </thead>\n",
       "  <tbody>\n",
       "    <tr>\n",
       "      <th>0</th>\n",
       "      <td>LP001002</td>\n",
       "      <td>0.0</td>\n",
       "      <td>0.0</td>\n",
       "      <td>0</td>\n",
       "      <td>Graduate</td>\n",
       "      <td>No</td>\n",
       "      <td>5849</td>\n",
       "      <td>0</td>\n",
       "      <td>NaN</td>\n",
       "      <td>360.0</td>\n",
       "      <td>1.0</td>\n",
       "      <td>Urban</td>\n",
       "      <td>1</td>\n",
       "    </tr>\n",
       "    <tr>\n",
       "      <th>1</th>\n",
       "      <td>LP001003</td>\n",
       "      <td>0.0</td>\n",
       "      <td>1.0</td>\n",
       "      <td>1</td>\n",
       "      <td>Graduate</td>\n",
       "      <td>No</td>\n",
       "      <td>4583</td>\n",
       "      <td>1508</td>\n",
       "      <td>128.0</td>\n",
       "      <td>360.0</td>\n",
       "      <td>1.0</td>\n",
       "      <td>Rural</td>\n",
       "      <td>0</td>\n",
       "    </tr>\n",
       "    <tr>\n",
       "      <th>2</th>\n",
       "      <td>LP001005</td>\n",
       "      <td>0.0</td>\n",
       "      <td>1.0</td>\n",
       "      <td>0</td>\n",
       "      <td>Graduate</td>\n",
       "      <td>Yes</td>\n",
       "      <td>3000</td>\n",
       "      <td>0</td>\n",
       "      <td>66.0</td>\n",
       "      <td>360.0</td>\n",
       "      <td>1.0</td>\n",
       "      <td>Urban</td>\n",
       "      <td>1</td>\n",
       "    </tr>\n",
       "    <tr>\n",
       "      <th>3</th>\n",
       "      <td>LP001006</td>\n",
       "      <td>0.0</td>\n",
       "      <td>1.0</td>\n",
       "      <td>0</td>\n",
       "      <td>Not Graduate</td>\n",
       "      <td>No</td>\n",
       "      <td>2583</td>\n",
       "      <td>2358</td>\n",
       "      <td>120.0</td>\n",
       "      <td>360.0</td>\n",
       "      <td>1.0</td>\n",
       "      <td>Urban</td>\n",
       "      <td>1</td>\n",
       "    </tr>\n",
       "    <tr>\n",
       "      <th>4</th>\n",
       "      <td>LP001008</td>\n",
       "      <td>0.0</td>\n",
       "      <td>0.0</td>\n",
       "      <td>0</td>\n",
       "      <td>Graduate</td>\n",
       "      <td>No</td>\n",
       "      <td>6000</td>\n",
       "      <td>0</td>\n",
       "      <td>141.0</td>\n",
       "      <td>360.0</td>\n",
       "      <td>1.0</td>\n",
       "      <td>Urban</td>\n",
       "      <td>1</td>\n",
       "    </tr>\n",
       "    <tr>\n",
       "      <th>5</th>\n",
       "      <td>LP001011</td>\n",
       "      <td>0.0</td>\n",
       "      <td>1.0</td>\n",
       "      <td>2</td>\n",
       "      <td>Graduate</td>\n",
       "      <td>Yes</td>\n",
       "      <td>5417</td>\n",
       "      <td>4196</td>\n",
       "      <td>267.0</td>\n",
       "      <td>360.0</td>\n",
       "      <td>1.0</td>\n",
       "      <td>Urban</td>\n",
       "      <td>1</td>\n",
       "    </tr>\n",
       "    <tr>\n",
       "      <th>6</th>\n",
       "      <td>LP001013</td>\n",
       "      <td>0.0</td>\n",
       "      <td>1.0</td>\n",
       "      <td>0</td>\n",
       "      <td>Not Graduate</td>\n",
       "      <td>No</td>\n",
       "      <td>2333</td>\n",
       "      <td>1516</td>\n",
       "      <td>95.0</td>\n",
       "      <td>360.0</td>\n",
       "      <td>1.0</td>\n",
       "      <td>Urban</td>\n",
       "      <td>1</td>\n",
       "    </tr>\n",
       "    <tr>\n",
       "      <th>7</th>\n",
       "      <td>LP001014</td>\n",
       "      <td>0.0</td>\n",
       "      <td>1.0</td>\n",
       "      <td>3+</td>\n",
       "      <td>Graduate</td>\n",
       "      <td>No</td>\n",
       "      <td>3036</td>\n",
       "      <td>2504</td>\n",
       "      <td>158.0</td>\n",
       "      <td>360.0</td>\n",
       "      <td>0.0</td>\n",
       "      <td>Semiurban</td>\n",
       "      <td>0</td>\n",
       "    </tr>\n",
       "    <tr>\n",
       "      <th>8</th>\n",
       "      <td>LP001018</td>\n",
       "      <td>0.0</td>\n",
       "      <td>1.0</td>\n",
       "      <td>2</td>\n",
       "      <td>Graduate</td>\n",
       "      <td>No</td>\n",
       "      <td>4006</td>\n",
       "      <td>1526</td>\n",
       "      <td>168.0</td>\n",
       "      <td>360.0</td>\n",
       "      <td>1.0</td>\n",
       "      <td>Urban</td>\n",
       "      <td>1</td>\n",
       "    </tr>\n",
       "    <tr>\n",
       "      <th>9</th>\n",
       "      <td>LP001020</td>\n",
       "      <td>0.0</td>\n",
       "      <td>1.0</td>\n",
       "      <td>1</td>\n",
       "      <td>Graduate</td>\n",
       "      <td>No</td>\n",
       "      <td>12841</td>\n",
       "      <td>10968</td>\n",
       "      <td>349.0</td>\n",
       "      <td>360.0</td>\n",
       "      <td>1.0</td>\n",
       "      <td>Semiurban</td>\n",
       "      <td>0</td>\n",
       "    </tr>\n",
       "  </tbody>\n",
       "</table>\n",
       "</div>"
      ],
      "text/plain": [
       "  cod_cliente  sexo  estado_civil dependentes      educacao empregado  renda  \\\n",
       "0    LP001002   0.0           0.0           0      Graduate        No   5849   \n",
       "1    LP001003   0.0           1.0           1      Graduate        No   4583   \n",
       "2    LP001005   0.0           1.0           0      Graduate       Yes   3000   \n",
       "3    LP001006   0.0           1.0           0  Not Graduate        No   2583   \n",
       "4    LP001008   0.0           0.0           0      Graduate        No   6000   \n",
       "5    LP001011   0.0           1.0           2      Graduate       Yes   5417   \n",
       "6    LP001013   0.0           1.0           0  Not Graduate        No   2333   \n",
       "7    LP001014   0.0           1.0          3+      Graduate        No   3036   \n",
       "8    LP001018   0.0           1.0           2      Graduate        No   4006   \n",
       "9    LP001020   0.0           1.0           1      Graduate        No  12841   \n",
       "\n",
       "  renda_conjuge  emprestimo  prestacao_mensal  historico_credito     imovel  \\\n",
       "0             0         NaN             360.0                1.0      Urban   \n",
       "1          1508       128.0             360.0                1.0      Rural   \n",
       "2             0        66.0             360.0                1.0      Urban   \n",
       "3          2358       120.0             360.0                1.0      Urban   \n",
       "4             0       141.0             360.0                1.0      Urban   \n",
       "5          4196       267.0             360.0                1.0      Urban   \n",
       "6          1516        95.0             360.0                1.0      Urban   \n",
       "7          2504       158.0             360.0                0.0  Semiurban   \n",
       "8          1526       168.0             360.0                1.0      Urban   \n",
       "9         10968       349.0             360.0                1.0  Semiurban   \n",
       "\n",
       "   aprovacao_emprestimo  \n",
       "0                     1  \n",
       "1                     0  \n",
       "2                     1  \n",
       "3                     1  \n",
       "4                     1  \n",
       "5                     1  \n",
       "6                     1  \n",
       "7                     0  \n",
       "8                     1  \n",
       "9                     0  "
      ]
     },
     "execution_count": 25,
     "metadata": {},
     "output_type": "execute_result"
    }
   ],
   "source": [
    "#Substituir caractere por números\n",
    "\n",
    "clientes['sexo'] = clientes['sexo'].map({'Male':0,'Female':1})\n",
    "clientes['estado_civil'] = clientes['estado_civil'].map({'No':0,'Yes':1})\n",
    "clientes['aprovacao_emprestimo'] = clientes['aprovacao_emprestimo'].map({'N':0,'Y':1})\n",
    "clientes.head(10)"
   ]
  },
  {
   "cell_type": "code",
   "execution_count": 26,
   "metadata": {},
   "outputs": [
    {
     "data": {
      "text/plain": [
       "cod_cliente             0\n",
       "sexo                    0\n",
       "estado_civil            0\n",
       "dependentes             0\n",
       "educacao                0\n",
       "empregado               0\n",
       "renda                   0\n",
       "renda_conjuge           0\n",
       "emprestimo              0\n",
       "prestacao_mensal        0\n",
       "historico_credito       0\n",
       "imovel                  0\n",
       "aprovacao_emprestimo    0\n",
       "dtype: int64"
      ]
     },
     "execution_count": 26,
     "metadata": {},
     "output_type": "execute_result"
    }
   ],
   "source": [
    "#Eliminando os valores nulos/ausentes\n",
    "\n",
    "clientes = clientes.dropna()\n",
    "clientes.isnull().sum()"
   ]
  },
  {
   "cell_type": "markdown",
   "metadata": {},
   "source": [
    "Como é possível ver, a função dropna() eliminou todos os valores nulos/ausentes."
   ]
  },
  {
   "cell_type": "code",
   "execution_count": 27,
   "metadata": {},
   "outputs": [
    {
     "data": {
      "text/plain": [
       "((480, 5), (480,))"
      ]
     },
     "execution_count": 27,
     "metadata": {},
     "output_type": "execute_result"
    }
   ],
   "source": [
    "#Separadno variáveis explicativas e variável target\n",
    "\n",
    "x = clientes[['sexo','estado_civil','renda','emprestimo','historico_credito']]\n",
    "y = clientes['aprovacao_emprestimo']\n",
    "\n",
    "#Verificação da dimensão dos conjuntos de dados\n",
    "\n",
    "x.shape , y.shape "
   ]
  },
  {
   "cell_type": "markdown",
   "metadata": {},
   "source": [
    "A etapa de separação dos dados é essencial para separar os dados explicativos, que trazem as informações que levamos em conta para tomar as decisões, e os dados target que são os resultados da avaliação. Nesse caso vamos usar o sexo, o estado civil, a renda, o empréstimo e o histórico de crédito do cliente para decidir se o empréstimo será aprovado ou não. Note que algumas variáveis não estão sendo levadas em consideração, como: nível escolar, local onde mora, dependentes, empregado, renda do conjuge, prestação mensal. Pois foi observado que não são variáveis que influenciam muito na aprovação do empréstimo."
   ]
  },
  {
   "cell_type": "code",
   "execution_count": 29,
   "metadata": {},
   "outputs": [],
   "source": [
    "#Importação do pacote para amostragem de dados\n",
    "\n",
    "from sklearn.model_selection import train_test_split"
   ]
  },
  {
   "cell_type": "code",
   "execution_count": 30,
   "metadata": {},
   "outputs": [],
   "source": [
    "#Realizando amostragem dos dados\n",
    "\n",
    "x_train, x_teste, y_train, y_teste = train_test_split(x,y,test_size=0.2,random_state=7)"
   ]
  },
  {
   "cell_type": "markdown",
   "metadata": {},
   "source": [
    "Esta função train_test_split serve para separar os dados que serão usados para treino da nossa máquina preditiva e os dados que serão usados para testar a eficiência da máquina"
   ]
  },
  {
   "cell_type": "code",
   "execution_count": 31,
   "metadata": {},
   "outputs": [
    {
     "data": {
      "text/html": [
       "<div>\n",
       "<style scoped>\n",
       "    .dataframe tbody tr th:only-of-type {\n",
       "        vertical-align: middle;\n",
       "    }\n",
       "\n",
       "    .dataframe tbody tr th {\n",
       "        vertical-align: top;\n",
       "    }\n",
       "\n",
       "    .dataframe thead th {\n",
       "        text-align: right;\n",
       "    }\n",
       "</style>\n",
       "<table border=\"1\" class=\"dataframe\">\n",
       "  <thead>\n",
       "    <tr style=\"text-align: right;\">\n",
       "      <th></th>\n",
       "      <th>sexo</th>\n",
       "      <th>estado_civil</th>\n",
       "      <th>renda</th>\n",
       "      <th>emprestimo</th>\n",
       "      <th>historico_credito</th>\n",
       "    </tr>\n",
       "  </thead>\n",
       "  <tbody>\n",
       "    <tr>\n",
       "      <th>172</th>\n",
       "      <td>0.0</td>\n",
       "      <td>1.0</td>\n",
       "      <td>3522</td>\n",
       "      <td>81.0</td>\n",
       "      <td>1.0</td>\n",
       "    </tr>\n",
       "    <tr>\n",
       "      <th>4</th>\n",
       "      <td>0.0</td>\n",
       "      <td>0.0</td>\n",
       "      <td>6000</td>\n",
       "      <td>141.0</td>\n",
       "      <td>1.0</td>\n",
       "    </tr>\n",
       "    <tr>\n",
       "      <th>566</th>\n",
       "      <td>0.0</td>\n",
       "      <td>0.0</td>\n",
       "      <td>3333</td>\n",
       "      <td>70.0</td>\n",
       "      <td>1.0</td>\n",
       "    </tr>\n",
       "    <tr>\n",
       "      <th>74</th>\n",
       "      <td>0.0</td>\n",
       "      <td>1.0</td>\n",
       "      <td>5266</td>\n",
       "      <td>187.0</td>\n",
       "      <td>1.0</td>\n",
       "    </tr>\n",
       "    <tr>\n",
       "      <th>417</th>\n",
       "      <td>0.0</td>\n",
       "      <td>1.0</td>\n",
       "      <td>1600</td>\n",
       "      <td>239.0</td>\n",
       "      <td>1.0</td>\n",
       "    </tr>\n",
       "  </tbody>\n",
       "</table>\n",
       "</div>"
      ],
      "text/plain": [
       "     sexo  estado_civil  renda  emprestimo  historico_credito\n",
       "172   0.0           1.0   3522        81.0                1.0\n",
       "4     0.0           0.0   6000       141.0                1.0\n",
       "566   0.0           0.0   3333        70.0                1.0\n",
       "74    0.0           1.0   5266       187.0                1.0\n",
       "417   0.0           1.0   1600       239.0                1.0"
      ]
     },
     "execution_count": 31,
     "metadata": {},
     "output_type": "execute_result"
    }
   ],
   "source": [
    "x_train.head()"
   ]
  },
  {
   "cell_type": "code",
   "execution_count": 32,
   "metadata": {},
   "outputs": [
    {
     "data": {
      "text/plain": [
       "172    0\n",
       "4      1\n",
       "566    1\n",
       "74     1\n",
       "417    0\n",
       "      ..\n",
       "269    1\n",
       "85     1\n",
       "33     1\n",
       "251    0\n",
       "224    1\n",
       "Name: aprovacao_emprestimo, Length: 384, dtype: int64"
      ]
     },
     "execution_count": 32,
     "metadata": {},
     "output_type": "execute_result"
    }
   ],
   "source": [
    "y_train"
   ]
  },
  {
   "cell_type": "code",
   "execution_count": 33,
   "metadata": {},
   "outputs": [
    {
     "data": {
      "text/html": [
       "<div>\n",
       "<style scoped>\n",
       "    .dataframe tbody tr th:only-of-type {\n",
       "        vertical-align: middle;\n",
       "    }\n",
       "\n",
       "    .dataframe tbody tr th {\n",
       "        vertical-align: top;\n",
       "    }\n",
       "\n",
       "    .dataframe thead th {\n",
       "        text-align: right;\n",
       "    }\n",
       "</style>\n",
       "<table border=\"1\" class=\"dataframe\">\n",
       "  <thead>\n",
       "    <tr style=\"text-align: right;\">\n",
       "      <th></th>\n",
       "      <th>sexo</th>\n",
       "      <th>estado_civil</th>\n",
       "      <th>renda</th>\n",
       "      <th>emprestimo</th>\n",
       "      <th>historico_credito</th>\n",
       "    </tr>\n",
       "  </thead>\n",
       "  <tbody>\n",
       "    <tr>\n",
       "      <th>153</th>\n",
       "      <td>0.0</td>\n",
       "      <td>1.0</td>\n",
       "      <td>2281</td>\n",
       "      <td>113.0</td>\n",
       "      <td>1.0</td>\n",
       "    </tr>\n",
       "    <tr>\n",
       "      <th>573</th>\n",
       "      <td>0.0</td>\n",
       "      <td>1.0</td>\n",
       "      <td>6125</td>\n",
       "      <td>187.0</td>\n",
       "      <td>1.0</td>\n",
       "    </tr>\n",
       "    <tr>\n",
       "      <th>578</th>\n",
       "      <td>0.0</td>\n",
       "      <td>1.0</td>\n",
       "      <td>1782</td>\n",
       "      <td>107.0</td>\n",
       "      <td>1.0</td>\n",
       "    </tr>\n",
       "    <tr>\n",
       "      <th>485</th>\n",
       "      <td>0.0</td>\n",
       "      <td>1.0</td>\n",
       "      <td>1958</td>\n",
       "      <td>131.0</td>\n",
       "      <td>1.0</td>\n",
       "    </tr>\n",
       "    <tr>\n",
       "      <th>388</th>\n",
       "      <td>0.0</td>\n",
       "      <td>1.0</td>\n",
       "      <td>2333</td>\n",
       "      <td>136.0</td>\n",
       "      <td>1.0</td>\n",
       "    </tr>\n",
       "  </tbody>\n",
       "</table>\n",
       "</div>"
      ],
      "text/plain": [
       "     sexo  estado_civil  renda  emprestimo  historico_credito\n",
       "153   0.0           1.0   2281       113.0                1.0\n",
       "573   0.0           1.0   6125       187.0                1.0\n",
       "578   0.0           1.0   1782       107.0                1.0\n",
       "485   0.0           1.0   1958       131.0                1.0\n",
       "388   0.0           1.0   2333       136.0                1.0"
      ]
     },
     "execution_count": 33,
     "metadata": {},
     "output_type": "execute_result"
    }
   ],
   "source": [
    "x_teste.head()"
   ]
  },
  {
   "cell_type": "code",
   "execution_count": 34,
   "metadata": {},
   "outputs": [
    {
     "data": {
      "text/plain": [
       "153    0\n",
       "573    0\n",
       "578    1\n",
       "485    1\n",
       "388    1\n",
       "      ..\n",
       "64     0\n",
       "529    1\n",
       "17     0\n",
       "603    1\n",
       "136    0\n",
       "Name: aprovacao_emprestimo, Length: 96, dtype: int64"
      ]
     },
     "execution_count": 34,
     "metadata": {},
     "output_type": "execute_result"
    }
   ],
   "source": [
    "y_teste"
   ]
  },
  {
   "cell_type": "markdown",
   "metadata": {},
   "source": [
    "# Construção da Máquina Preditiva"
   ]
  },
  {
   "cell_type": "code",
   "execution_count": 35,
   "metadata": {},
   "outputs": [],
   "source": [
    "#Importação do pacote para construção da máquina preditiva\n",
    "\n",
    "##Algoritmo Random Forest\n",
    "\n",
    "from sklearn.ensemble import RandomForestClassifier"
   ]
  },
  {
   "cell_type": "code",
   "execution_count": 36,
   "metadata": {},
   "outputs": [
    {
     "data": {
      "text/plain": [
       "RandomForestClassifier()"
      ]
     },
     "execution_count": 36,
     "metadata": {},
     "output_type": "execute_result"
    }
   ],
   "source": [
    "#Criando a Máquina Preditiva com Random Forest\n",
    "\n",
    "maquina = RandomForestClassifier()\n",
    "maquina.fit(x_train,y_train)"
   ]
  },
  {
   "cell_type": "markdown",
   "metadata": {},
   "source": [
    "# Avaliando a Máquina Preditiva"
   ]
  },
  {
   "cell_type": "code",
   "execution_count": 37,
   "metadata": {},
   "outputs": [],
   "source": [
    "#Importação da métrica de avaliação\n",
    "\n",
    "from sklearn.metrics import accuracy_score"
   ]
  },
  {
   "cell_type": "code",
   "execution_count": 39,
   "metadata": {},
   "outputs": [
    {
     "name": "stdout",
     "output_type": "stream",
     "text": [
      "A acurácia da máquina foi de 100.0 %\n"
     ]
    }
   ],
   "source": [
    "#Avaliando a acurácia da máquina preditiva com os dados de treino\n",
    "\n",
    "pred_maquina = maquina.predict(x_train)\n",
    "print('A acurácia da máquina foi de',round(accuracy_score(y_train,pred_maquina)*100,2),'%')"
   ]
  },
  {
   "cell_type": "markdown",
   "metadata": {},
   "source": [
    "Esse resultado era esperado, pois a máquina foi treinada com esses valores. Logo, é esperado que ela não erre no conjunto de dados de treino."
   ]
  },
  {
   "cell_type": "code",
   "execution_count": 38,
   "metadata": {},
   "outputs": [
    {
     "name": "stdout",
     "output_type": "stream",
     "text": [
      "A acurácia da máquina foi de 75.0 %\n"
     ]
    }
   ],
   "source": [
    "#Avaliando a acurácia da máquina preditiva com os dados de teste\n",
    "\n",
    "pred_maquina = maquina.predict(x_teste)\n",
    "print('A acurácia da máquina foi de',round(accuracy_score(y_teste,pred_maquina)*100,2),'%')"
   ]
  },
  {
   "cell_type": "markdown",
   "metadata": {},
   "source": [
    "## 2ª Versão da Máquina Preditiva\n",
    "\n",
    "Tunando (calibrando) **Hiperparâmetros** do Algoritmo"
   ]
  },
  {
   "cell_type": "markdown",
   "metadata": {},
   "source": [
    "### Usando Hiperparâmetros: \"max_depth\" para diminuir \"overfiting\""
   ]
  },
  {
   "cell_type": "code",
   "execution_count": 40,
   "metadata": {},
   "outputs": [
    {
     "data": {
      "text/plain": [
       "RandomForestClassifier(max_depth=4, random_state=7)"
      ]
     },
     "execution_count": 40,
     "metadata": {},
     "output_type": "execute_result"
    }
   ],
   "source": [
    "maquina = RandomForestClassifier(max_depth=4, random_state=7)\n",
    "maquina.fit(x_train,y_train)"
   ]
  },
  {
   "cell_type": "code",
   "execution_count": 41,
   "metadata": {},
   "outputs": [
    {
     "name": "stdout",
     "output_type": "stream",
     "text": [
      "A acurácia da máquina foi de 78.12 %\n"
     ]
    }
   ],
   "source": [
    "#Avaliando o desempenho da máquina nos dados de teste após modificar hiperparâmetros\n",
    "\n",
    "pred_maquina = maquina.predict(x_teste)\n",
    "print('A acurácia da máquina foi de',round(accuracy_score(y_teste,pred_maquina)*100,2),'%')"
   ]
  },
  {
   "cell_type": "markdown",
   "metadata": {},
   "source": [
    "Logo, após modificar o hiperparâmetro max_depth conseguimos melhorar a eficiência da nossa máquina preditiva"
   ]
  },
  {
   "cell_type": "markdown",
   "metadata": {},
   "source": [
    "## Verificando as Variáveis Mais Importantes"
   ]
  },
  {
   "cell_type": "code",
   "execution_count": 71,
   "metadata": {},
   "outputs": [
    {
     "name": "stdout",
     "output_type": "stream",
     "text": [
      "[ 2.26187007  3.44782335 17.33214253 17.59317543 59.36498861]\n"
     ]
    },
    {
     "data": {
      "text/plain": [
       "Text(0.5, 1.0, 'Importância das Variáveis na Decisão de Aprovação de Empréstimos')"
      ]
     },
     "execution_count": 71,
     "metadata": {},
     "output_type": "execute_result"
    },
    {
     "data": {
      "image/png": "[encoded data removed]",
      "text/plain": [
       "<Figure size 432x288 with 1 Axes>"
      ]
     },
     "metadata": {
      "needs_background": "light"
     },
     "output_type": "display_data"
    }
   ],
   "source": [
    "#Importância das variáveis\n",
    "\n",
    "print(maquina.feature_importances_*100)\n",
    "\n",
    "#Gráfico mostrando a importância das variáveis\n",
    "from matplotlib import pyplot\n",
    "g1 = pyplot.bar(range(len(maquina.feature_importances_)),maquina.feature_importances_)\n",
    "pyplot.xlabel('Variáveis')\n",
    "pyplot.ylabel('Importância')\n",
    "pyplot.title('Importância das Variáveis na Decisão de Aprovação de Empréstimos')\n"
   ]
  },
  {
   "cell_type": "markdown",
   "metadata": {},
   "source": [
    "- Variável 0 -> Sexo\n",
    "- Variável 1 -> Estado Civil\n",
    "- Variável 2 -> Renda\n",
    "- Variável 3 -> Empréstimo\n",
    "- Variável 4 -> Histórico de Crédito"
   ]
  },
  {
   "cell_type": "markdown",
   "metadata": {},
   "source": [
    "Como podemos observar, a variável que mais afeta a aprovação de crédito ou não é o histórico de crédito do cliente. Basicamente se tem um histórico bom (1) a instituição financeira irá aceitar o pedido de empréstimo. O impacto da renda e do valor do empréstimo são razoáveis. Por outro lado o sexo e o estado civil do cliente não importam muito na decisão de aprovação."
   ]
  },
  {
   "cell_type": "markdown",
   "metadata": {},
   "source": [
    "# Criando Sistema WEB"
   ]
  },
  {
   "cell_type": "markdown",
   "metadata": {},
   "source": [
    "## Salvando Máquina Preditiva para Criar um Sistema WEB"
   ]
  },
  {
   "cell_type": "code",
   "execution_count": 72,
   "metadata": {},
   "outputs": [],
   "source": [
    "import pickle\n",
    "pickle_out = open('maquina_preditiva.pkl',mode='wb')\n",
    "pickle.dump(maquina,pickle_out)\n",
    "pickle_out.close()"
   ]
  },
  {
   "cell_type": "markdown",
   "metadata": {},
   "source": [
    "## Deploy - Implementando a Máquina Preditiva na WEB"
   ]
  },
  {
   "cell_type": "markdown",
   "metadata": {},
   "source": [
    "### 1º Instalar o Pacote para Conexão do Sistema na WEB"
   ]
  },
  {
   "cell_type": "code",
   "execution_count": 73,
   "metadata": {},
   "outputs": [
    {
     "name": "stdout",
     "output_type": "stream",
     "text": [
      "Note: you may need to restart the kernel to use updated packages.\n"
     ]
    }
   ],
   "source": [
    "%pip install -q pyngrok"
   ]
  },
  {
   "cell_type": "markdown",
   "metadata": {},
   "source": [
    "### 2º Instalar o Pacote para Implementação do Sistema WEB"
   ]
  },
  {
   "cell_type": "code",
   "execution_count": null,
   "metadata": {},
   "outputs": [],
   "source": [
    "%pip install -q streamlit\n",
    "%pip install -q streamlit_ace"
   ]
  },
  {
   "cell_type": "markdown",
   "metadata": {},
   "source": [
    "### 3º Criar o Sistema"
   ]
  },
  {
   "cell_type": "code",
   "execution_count": 76,
   "metadata": {},
   "outputs": [
    {
     "name": "stdout",
     "output_type": "stream",
     "text": [
      "Writing app.py\n"
     ]
    }
   ],
   "source": [
    "%%writefile app.py\n",
    "\n",
    "#Importando Pacotes \n",
    "import pickle\n",
    "import streamlit as st\n",
    " \n",
    "# Carregando a Máquina Preditiva\n",
    "pickle_in = open('maquina_preditiva.pkl', 'rb') \n",
    "maquina_preditiva = pickle.load(pickle_in)\n",
    "\n",
    "#Manter a sessão em cache \n",
    "@st.cache()\n",
    "  \n",
    "# Criando a função que irá fazer a predição usando os dados impostados pelo usuário do Sistema \n",
    "def prediction(sexo, estado_civil, renda, emprestimo, historico_credito):   \n",
    " \n",
    "    # Pre-processando a entrada do Usuário    \n",
    "    if sexo == \"Masculino\":\n",
    "        sexo = 0\n",
    "    else:\n",
    "        sexo = 1\n",
    " \n",
    "    if estado_civil == \"Solteiro(a)\":\n",
    "        estado_civil = 0\n",
    "    else:\n",
    "        estado_civil = 1\n",
    " \n",
    "    if historico_credito == \"Débitos Pendentes\":\n",
    "        historico_credito = 0\n",
    "    else:\n",
    "        historico_credito = 1  \n",
    " \n",
    "    emprestimo = emprestimo / 1000\n",
    " \n",
    "    # Fazendo Predições\n",
    "    prediction = maquina_preditiva.predict( \n",
    "        [[sexo, estado_civil, renda, emprestimo, historico_credito]])\n",
    "     \n",
    "    if prediction == 0:\n",
    "        pred = 'Rejeitado'\n",
    "    else:\n",
    "        pred = 'Aprovado'\n",
    "    return pred\n",
    "      \n",
    "  \n",
    "# Essa função é para criação da webpage  \n",
    "def main():  \n",
    "\n",
    "    # Elementos da webpage\n",
    "    # Nesse Ponto vc deve Personalizar o Sistema com sua Marca\n",
    "    html_temp = \"\"\" \n",
    "    <div style =\"background-color:yellow;padding:13px\"> \n",
    "    <h1 style =\"color:black;text-align:center;\">SAE</h1> \n",
    "    <h2 style =\"color:black;text-align:center;\">Sistema de Aprovação de Empréstimos</h2>\n",
    "    <h3 style =\"color:black;text-align:center;\">by Diogo Monteiro do Nascimento</h3>\n",
    "    </div>\n",
    "    \"\"\"\n",
    "      \n",
    "    # Função do stramlit que faz o display da webpage\n",
    "    st.markdown(html_temp, unsafe_allow_html = True) \n",
    "      \n",
    "    # As linhas abaixo criam as caixas na qual o usuário vai entrar com dados da pessoa que quer o empréstimo para fazer a Predição\n",
    "    sexo = st.selectbox('Sexo',(\"Masculino\",\"Feminino\"))\n",
    "    estado_civil = st.selectbox('Estado Civil',(\"Solteiro(a)\",\"Casado(a)\")) \n",
    "    renda = st.number_input(\"Renda Mensal\") \n",
    "    emprestimo = st.number_input(\"Valor Total do Empréstimo\")\n",
    "    historico_credito = st.selectbox('Histórico de Créditos',(\"Sem Débitos\",\"Débitos Pendentes\"))\n",
    "    result =\"\"\n",
    "      \n",
    "    #Quando o Usuário clicar no botão \"Verificar\" a Máquina Preditiva faz seu trabalho\n",
    "    if st.button(\"Verificar\"): \n",
    "        result = prediction(sexo, estado_civil, renda, emprestimo, historico_credito) \n",
    "        st.success('O empréstimo foi {}'.format(result))\n",
    "        print(emprestimo)\n",
    "     \n",
    "if __name__=='__main__': \n",
    "    main()"
   ]
  },
  {
   "cell_type": "markdown",
   "metadata": {},
   "source": [
    "### 4º Executar o Sistema "
   ]
  },
  {
   "cell_type": "code",
   "execution_count": null,
   "metadata": {},
   "outputs": [],
   "source": [
    "import sys\n",
    "from streamlit import cli as stcli\n",
    "\n",
    "if __name__ == '__main__':\n",
    "    sys.argv = [\"streamlit\", \"run\", \"app.py\"]\n",
    "    sys.exit(stcli.main())"
   ]
  },
  {
   "cell_type": "markdown",
   "metadata": {},
   "source": [
    "### 5º Criar a Conexão do Sistema WEB"
   ]
  },
  {
   "cell_type": "code",
   "execution_count": 83,
   "metadata": {},
   "outputs": [],
   "source": [
    "from pyngrok import ngrok"
   ]
  },
  {
   "cell_type": "markdown",
   "metadata": {},
   "source": [
    "### 6º Publicar o Sistema numa URL"
   ]
  },
  {
   "cell_type": "code",
   "execution_count": null,
   "metadata": {},
   "outputs": [],
   "source": [
    "public_url = ngrok.connect('8501')"
   ]
  },
  {
   "cell_type": "markdown",
   "metadata": {},
   "source": [
    "### 7º Abrir o Sistema via Link que Contém a Palavra ngrok.io"
   ]
  },
  {
   "cell_type": "code",
   "execution_count": 86,
   "metadata": {},
   "outputs": [
    {
     "data": {
      "text/plain": [
       "<NgrokTunnel: \"http://daf9-179-73-177-177.ngrok.io\" -> \"http://localhost:8501\">"
      ]
     },
     "execution_count": 86,
     "metadata": {},
     "output_type": "execute_result"
    },
    {
     "name": "stdout",
     "output_type": "stream",
     "text": [
      "150.0\n",
      "150.0\n"
     ]
    }
   ],
   "source": [
    "public_url"
   ]
  }
 ],
 "metadata": {
  "interpreter": {
   "hash": "c23ebac15574eb22a5fade7f9c6f0b5fc897d1c256dfe217e07f745066c92883"
  },
  "kernelspec": {
   "display_name": "Python 3.10.1 64-bit (windows store)",
   "language": "python",
   "name": "python3"
  },
  "language_info": {
   "codemirror_mode": {
    "name": "ipython",
    "version": 3
   },
   "file_extension": ".py",
   "mimetype": "text/x-python",
   "name": "python",
   "nbconvert_exporter": "python",
   "pygments_lexer": "ipython3",
   "version": "3.9.9"
  },
  "orig_nbformat": 4
 },
 "nbformat": 4,
 "nbformat_minor": 2
}
